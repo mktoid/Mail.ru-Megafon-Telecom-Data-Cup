{
 "cells": [
  {
   "cell_type": "code",
   "execution_count": 1,
   "metadata": {},
   "outputs": [
    {
     "name": "stderr",
     "output_type": "stream",
     "text": [
      "/home/oleg/anaconda36/lib/python3.6/importlib/_bootstrap.py:219: RuntimeWarning: numpy.dtype size changed, may indicate binary incompatibility. Expected 96, got 88\n",
      "  return f(*args, **kwds)\n"
     ]
    }
   ],
   "source": [
    "import pandas as pd\n",
    "import numpy as np\n",
    "import gc"
   ]
  },
  {
   "cell_type": "code",
   "execution_count": 2,
   "metadata": {},
   "outputs": [],
   "source": [
    "dtypes = {\n",
    "'T_DATE': str,\n",
    "'CELL_LAC_ID': np.int64,\n",
    "'CELL_AVAILABILITY_2G': np.float16,\n",
    "'CELL_AVAILABILITY_3G': np.float16,\n",
    "'CELL_AVAILABILITY_4G': np.float16,\n",
    "'CSSR_2G': np.float16,\n",
    "'CSSR_3G': np.float16,\n",
    "'ERAB_PS_BLOCKING_RATE_LTE': np.float16,\n",
    "'ERAB_PS_BLOCKING_RATE_PLMN_LTE': np.float16,\n",
    "'ERAB_PS_DROP_RATE_LTE': np.float16,\n",
    "'HSPDSCH_CODE_UTIL_3G': np.float16,\n",
    "'NODEB_CNBAP_LOAD_HARDWARE': np.float16,\n",
    "'PART_CQI_QPSK_LTE': np.float16,\n",
    "'PART_MCS_QPSK_LTE': np.float16,\n",
    "'PROC_LOAD_3G': np.float16,\n",
    "'PSSR_2G': np.float16,\n",
    "'PSSR_3G': np.float16,\n",
    "'PSSR_LTE': np.float16,\n",
    "'RAB_CS_BLOCKING_RATE_3G': np.float16,\n",
    "'RAB_CS_DROP_RATE_3G': np.float16,\n",
    "'RAB_PS_BLOCKING_RATE_3G': np.float16,\n",
    "'RAB_PS_DROP_RATE_3G': np.float16,\n",
    "'RBU_AVAIL_DL': np.float16,\n",
    "'RBU_AVAIL_DL_LTE': np.float16,\n",
    "'RBU_AVAIL_UL': np.float16,\n",
    "'RBU_OTHER_DL': np.float16,\n",
    "'RBU_OTHER_UL': np.float16,\n",
    "'RBU_OWN_DL': np.float16,\n",
    "'RBU_OWN_UL': np.float16,\n",
    "'RRC_BLOCKING_RATE_3G': np.float16,\n",
    "'RRC_BLOCKING_RATE_LTE': np.float16,\n",
    "'RTWP_3G': np.float16,\n",
    "'SHO_FACTOR': np.float16,\n",
    "'TBF_DROP_RATE_2G': np.float16,\n",
    "'TCH_DROP_RATE_2G': np.float16,\n",
    "'UTIL_BRD_CPU_3G': np.float16,\n",
    "'UTIL_CE_DL_3G': np.float16,\n",
    "'UTIL_CE_HW_DL_3G': np.float16,\n",
    "'UTIL_CE_UL_3G': np.float16,\n",
    "'UTIL_SUBUNITS_3G': np.float16,\n",
    "'UL_VOLUME_LTE': np.float16,\n",
    "'DL_VOLUME_LTE': np.float16,\n",
    "'TOTAL_DL_VOLUME_3G': np.float16,\n",
    "'TOTAL_UL_VOLUME_3G': np.float16    \n",
    "}"
   ]
  },
  {
   "cell_type": "code",
   "execution_count": 3,
   "metadata": {},
   "outputs": [
    {
     "name": "stdout",
     "output_type": "stream",
     "text": [
      "CPU times: user 3min 20s, sys: 27.7 s, total: 3min 48s\n",
      "Wall time: 4min 41s\n"
     ]
    }
   ],
   "source": [
    "%%time\n",
    "bs_avg_kpi = pd.read_csv('/home/oleg/datasets/tc/dataset/bs_avg_kpi.csv', sep=';', decimal=',', dtype=dtypes)"
   ]
  },
  {
   "cell_type": "code",
   "execution_count": 4,
   "metadata": {},
   "outputs": [
    {
     "data": {
      "text/plain": [
       "7"
      ]
     },
     "execution_count": 4,
     "metadata": {},
     "output_type": "execute_result"
    }
   ],
   "source": [
    "del bs_avg_kpi['T_DATE']\n",
    "import gc\n",
    "gc.collect()"
   ]
  },
  {
   "cell_type": "code",
   "execution_count": 5,
   "metadata": {},
   "outputs": [
    {
     "name": "stderr",
     "output_type": "stream",
     "text": [
      "/home/oleg/anaconda36/lib/python3.6/site-packages/pandas/core/nanops.py:121: RuntimeWarning: Mean of empty slice\n",
      "  result = bn_func(values, axis=axis, **kwds)\n"
     ]
    }
   ],
   "source": [
    "bs_avg_kpi.groupby('CELL_LAC_ID', as_index=False).mean().to_csv('/home/oleg/datasets/tc/dataset/bs_avg_kpi_mean.csv', index=False)"
   ]
  },
  {
   "cell_type": "code",
   "execution_count": 3,
   "metadata": {},
   "outputs": [],
   "source": [
    "dtypes = {\n",
    "'T_DATE': str,\n",
    "'CELL_LAC_ID': np.int64,\n",
    "'AVEUSERNUMBER': np.float16,\n",
    "'AVEUSERNUMBER_PLMN': np.float16,\n",
    "'AVR_DL_HSPA_USER_3G': np.float16,\n",
    "'AVR_DL_R99_USER_3G': np.float16,\n",
    "'AVR_DL_USER_3G': np.float16,\n",
    "'AVR_DL_USER_LTE': np.float16,\n",
    "'AVR_TX_POWER_3G': np.float16,\n",
    "'AVR_UL_HSPA_USER': np.float16,\n",
    "'AVR_UL_R99_USER': np.float16,\n",
    "'AVR_UL_USER_3G': np.float16,\n",
    "'AVR_UL_USER_LTE': np.float16,\n",
    "'DL_AVR_THROUGHPUT_3G': np.float16,\n",
    "'DL_AVR_THROUGHPUT_LTE': np.float16,\n",
    "'DL_AVR_THROUGHPUT_R99': np.float16,\n",
    "'DL_MEAN_USER_THROUGHPUT_LTE': np.float16,\n",
    "'DL_MEAN_USER_THROUGHPUT_DL_2G': np.float16,\n",
    "'DL_MEAN_USER_THROUGHPUT_HSPA3G': np.float16,\n",
    "'DL_MEAN_USER_THROUGHPUT_PLTE': np.float16,\n",
    "'DL_MEAN_USER_THROUGHPUT_REL93G': np.float16,\n",
    "'HSDPA_USERS_3G': np.float16,\n",
    "'HSUPA_USERS_3G': np.float16,\n",
    "'RBU_USED_DL': np.float16,\n",
    "'RBU_USED_UL': np.float16,\n",
    "'RELATIVE_RBU_USED_DL': np.float16,\n",
    "'RELATIVE_RBU_USED_UL': np.float16,\n",
    "'RELATIVE_TX_POWER_3G': np.float16,\n",
    "'UL_AVR_THROUGHPUT_3G': np.float16,\n",
    "'UL_AVR_THROUGHPUT_LTE': np.float16,\n",
    "'UL_AVR_THROUGHPUT_R99': np.float16,\n",
    "'UL_MEAN_USER_THROUGHPUT_LTE': np.float16,\n",
    "'UL_MEAN_USER_THROUGHPUT_HS3G': np.float16,\n",
    "'UL_MEAN_USER_THROUGHPUT_PLTE': np.float16,\n",
    "'UL_MEAN_USER_THROUGHPUT_REL93G': np.float16,    \n",
    "}"
   ]
  },
  {
   "cell_type": "code",
   "execution_count": 5,
   "metadata": {},
   "outputs": [
    {
     "name": "stdout",
     "output_type": "stream",
     "text": [
      "CPU times: user 2min 35s, sys: 6.26 s, total: 2min 41s\n",
      "Wall time: 2min 41s\n"
     ]
    }
   ],
   "source": [
    "%%time\n",
    "\n",
    "bs_chnn_kpi = pd.read_csv('/home/oleg/datasets/tc/dataset/bs_chnn_kpi.csv', sep=';',decimal=',', dtype=dtypes)"
   ]
  },
  {
   "cell_type": "code",
   "execution_count": 6,
   "metadata": {},
   "outputs": [
    {
     "name": "stdout",
     "output_type": "stream",
     "text": [
      "CPU times: user 46.7 s, sys: 53 s, total: 1min 39s\n",
      "Wall time: 3min 32s\n"
     ]
    }
   ],
   "source": [
    "%%time\n",
    "del bs_chnn_kpi['T_DATE']\n",
    "\n",
    "bs_chnn_kpi.groupby('CELL_LAC_ID', as_index=False).mean().to_csv('/home/oleg/datasets/tc/dataset/bs_chnn_kpi_mean.csv', index=False)"
   ]
  },
  {
   "cell_type": "code",
   "execution_count": null,
   "metadata": {},
   "outputs": [],
   "source": []
  }
 ],
 "metadata": {
  "kernelspec": {
   "display_name": "Python 3",
   "language": "python",
   "name": "python3"
  },
  "language_info": {
   "codemirror_mode": {
    "name": "ipython",
    "version": 3
   },
   "file_extension": ".py",
   "mimetype": "text/x-python",
   "name": "python",
   "nbconvert_exporter": "python",
   "pygments_lexer": "ipython3",
   "version": "3.6.4"
  }
 },
 "nbformat": 4,
 "nbformat_minor": 2
}
